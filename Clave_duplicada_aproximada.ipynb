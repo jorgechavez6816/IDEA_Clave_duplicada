{
 "cells": [
  {
   "cell_type": "code",
   "execution_count": 19,
   "metadata": {},
   "outputs": [],
   "source": [
    "import win32com.client as win32ComClient\n",
    "\n",
    "if __name__ == \"__main__\":\n",
    "    try:\n",
    "        dbName = \"Ejemplo-Detalle de ventas.IMD\"\n",
    "        criteria = \"\"\n",
    "        idea = win32ComClient.Dispatch(dispatch=\"Idea.IdeaClient\")\n",
    "        db = idea.OpenDatabase(dbName)\n",
    "        task = db.FuzzyDuplicate()\n",
    "        task.IncludeAllFields()\n",
    "        task.AddMatchField(\"NUM_FACT\")\n",
    "        task.Criteria = ' COD_PROD  = \"05\"'\n",
    "        resultDbName = \"Duplicado_03.IMD\"\n",
    "        task.OutputDBName = resultDbName\n",
    "        task.CreateVirtualDatabase = False\n",
    "        \n",
    "        task.AllowRecordsInMultipleFuzzyGroups = True\n",
    "        task.IncludeExactDuplicates = True\n",
    "        task.MatchCase = False\n",
    "        task.SimilarityDegreeThreshold = 0.8\n",
    "        task.OutputType = \"1\"\n",
    "        task.PerformTask()\n",
    "    finally:\n",
    "        task = None\n",
    "        db = None\n",
    "        idea = None\n",
    "\n",
    "#Task.OutType\n",
    "#WI_FD_OUTPUT_MATCHES = 1 (ejemplo: 2114 registros)\n",
    "#WI_FD_OUTPUT_NONMATCHES = 2 (ejemplo: 0 registros)\n",
    "#WI_FD_OUTPUT_ALLRECORDS = 3 (ejemplo: 2114 registros)"
   ]
  },
  {
   "cell_type": "code",
   "execution_count": null,
   "metadata": {},
   "outputs": [],
   "source": []
  }
 ],
 "metadata": {
  "kernelspec": {
   "display_name": "Python 3",
   "language": "python",
   "name": "python3"
  },
  "language_info": {
   "codemirror_mode": {
    "name": "ipython",
    "version": 3
   },
   "file_extension": ".py",
   "mimetype": "text/x-python",
   "name": "python",
   "nbconvert_exporter": "python",
   "pygments_lexer": "ipython3",
   "version": "3.7.6"
  }
 },
 "nbformat": 4,
 "nbformat_minor": 4
}
