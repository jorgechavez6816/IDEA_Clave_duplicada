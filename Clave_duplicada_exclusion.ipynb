{
 "cells": [
  {
   "cell_type": "code",
   "execution_count": 8,
   "metadata": {},
   "outputs": [],
   "source": [
    "import win32com.client as win32ComClient\n",
    "\n",
    "if __name__ == \"__main__\":\n",
    "    try:\n",
    "        dbName = \"Ejemplo-Detalle de ventas.IMD\"\n",
    "        criteria = \"\"\n",
    "        idea = win32ComClient.Dispatch(dispatch=\"Idea.IdeaClient\")\n",
    "        db = idea.OpenDatabase(dbName)\n",
    "        task = db.DupKeyExclusion()\n",
    "        task.IncludeAllFields()\n",
    "        task.AddKey(\"NUM_FACT\", \"A\")\n",
    "        task.DifferentField=\"FECHA_FACT\"\n",
    "        task.Criteria = ' COD_PROD  = \"05\"'\n",
    "        resultDbName = \"Duplicado_02.IMD\"\n",
    "        task.CreateVirtualDatabase = False\n",
    "        task.PerformTask(resultDbName, \"\")\n",
    "    finally:\n",
    "        task = None\n",
    "        db = None\n",
    "        idea = None\n"
   ]
  }
 ],
 "metadata": {
  "kernelspec": {
   "display_name": "Python 3",
   "language": "python",
   "name": "python3"
  },
  "language_info": {
   "codemirror_mode": {
    "name": "ipython",
    "version": 3
   },
   "file_extension": ".py",
   "mimetype": "text/x-python",
   "name": "python",
   "nbconvert_exporter": "python",
   "pygments_lexer": "ipython3",
   "version": "3.7.6"
  }
 },
 "nbformat": 4,
 "nbformat_minor": 4
}
